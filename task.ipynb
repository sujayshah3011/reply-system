{
 "cells": [
  {
   "cell_type": "code",
   "execution_count": 5,
   "id": "e24a2ee2",
   "metadata": {},
   "outputs": [
    {
     "name": "stdout",
     "output_type": "stream",
     "text": [
      "Excel file converted to CSV successfully with all entries on single lines.\n"
     ]
    }
   ],
   "source": [
    "import pandas as pd\n",
    "import csv\n",
    "import re\n",
    "\n",
    "# Read the Excel file\n",
    "df = pd.read_excel('posts.xlsx')\n",
    "\n",
    "# Function to replace newlines in text with space or \\\\n\n",
    "def normalize_text(text):\n",
    "    if isinstance(text, str):\n",
    "        # Replace actual newlines with space or a literal '\\n' string\n",
    "        return re.sub(r'[\\r\\n]+', ' ', text)\n",
    "    return text\n",
    "\n",
    "# Apply the normalization to all string columns\n",
    "for col in df.select_dtypes(include=['object']).columns:\n",
    "    df[col] = df[col].apply(normalize_text)\n",
    "\n",
    "# Save to CSV with proper handling of quotes\n",
    "df.to_csv('posts.csv', \n",
    "          index=False, \n",
    "          quoting=csv.QUOTE_NONNUMERIC,  # Quote non-numeric fields\n",
    "          doublequote=True,              # Double quotes within fields will be doubled\n",
    "          escapechar='\\\\',               # Use backslash as escape character\n",
    "          encoding='utf-8')\n",
    "\n",
    "print(\"Excel file converted to CSV successfully with all entries on single lines.\")"
   ]
  },
  {
   "cell_type": "code",
   "execution_count": null,
   "id": "4cdea092",
   "metadata": {},
   "outputs": [],
   "source": []
  }
 ],
 "metadata": {
  "kernelspec": {
   "display_name": "Python 3",
   "language": "python",
   "name": "python3"
  },
  "language_info": {
   "codemirror_mode": {
    "name": "ipython",
    "version": 3
   },
   "file_extension": ".py",
   "mimetype": "text/x-python",
   "name": "python",
   "nbconvert_exporter": "python",
   "pygments_lexer": "ipython3",
   "version": "3.11.4"
  }
 },
 "nbformat": 4,
 "nbformat_minor": 5
}
